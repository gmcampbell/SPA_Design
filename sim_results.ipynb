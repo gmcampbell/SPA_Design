{
 "cells": [
  {
   "cell_type": "code",
   "execution_count": 196,
   "metadata": {},
   "outputs": [],
   "source": [
    "from itertools import chain\n",
    "import jax.numpy as jnp\n",
    "from jax import jit, vmap, grad\n",
    "from jax import random\n",
    "\n",
    "from membrane_simulation import obtain_qoi_plane, plot_membrane_shape, simulate_ringed_membrane, plot_ode_sol, W_grads, shoot_x\n",
    "from membrane_simulation import _MU_elastic, _MU_stiff, _JM_elastic, _JM_stiff"
   ]
  },
  {
   "cell_type": "code",
   "execution_count": 197,
   "metadata": {},
   "outputs": [],
   "source": [
    "import pickle\n",
    "dict_name = 'model_data_dictionary_N_Pa.pkl'\n",
    "data_dict = pickle.load(open(dict_name, 'rb'))\n",
    "new_dict = data_dict\n",
    "keys=list(new_dict.keys())\n",
    "N_to_lbf = 0.224809\n",
    "lbf_to_N = 1/N_to_lbf\n",
    "PSI_to_Pa = 6894.76\n",
    "Pa_to_PSI = 1/PSI_to_Pa\n",
    "import numpy as np\n",
    "\n",
    "# ...existing code...\n",
    "\n",
    "# Create flattened pressure and force variables\n",
    "locals().update({f\"pressure{i+1}\": np.array(new_dict[key][0][1]).flatten() for i, key in enumerate(keys)})\n",
    "locals().update({f\"force{i+1}\": np.array(new_dict[key][1]).flatten() for i, key in enumerate(keys)})\n",
    "locals().update({f\"height{i+1}\": [x[0] for x in new_dict[key][0][0]] for i, key in enumerate(keys)})\n",
    "\n",
    "# Then create plane tuples\n",
    "for i in range(len(keys)):\n",
    "    locals()[f\"plane{i+1}\"] = (\n",
    "        keys[i],\n",
    "        (locals()[f\"pressure{i+1}\"], locals()[f\"force{i+1}\"], locals()[f\"height{i+1}\"])\n",
    "    )"
   ]
  },
  {
   "cell_type": "code",
   "execution_count": 200,
   "metadata": {},
   "outputs": [],
   "source": [
    "# Create tuples with nested structure, filtering out nan values\n",
    "locals().update({\n",
    "    f\"plane_values{i+1}\": (\n",
    "        float(tuple(map(float, keys[i].strip('()[]').replace(' ', '').split(',')))[0]),\n",
    "        # Convert single-element tuple to float if length is 1\n",
    "        float(next(iter(filtered))) if len(filtered := tuple(x for x in tuple(map(float, keys[i].strip('()[]').replace(' ', '').split(',')))[1:] if str(x) != 'nan')) == 1\n",
    "        else filtered\n",
    "    )\n",
    "    for i in range(len(keys))\n",
    "})\n",
    "\n",
    "plane_values_dict = {}\n",
    "for i, key in enumerate(keys):\n",
    "    values = tuple(map(float, key.strip('()[]').replace(' ', '').split(',')))\n",
    "    filtered = tuple(x for x in values[1:] if str(x) != 'nan')\n",
    "    \n",
    "    plane_values_dict[f\"plane_values{i+1}\"] = (\n",
    "        float(values[0]),\n",
    "        float(filtered[0]) if len(filtered) == 1 else filtered\n",
    "    )\n",
    "\n",
    "# Update locals with plane_values\n",
    "locals().update(plane_values_dict)\n",
    "\n",
    "# Now create membrane variables with converted values and index\n",
    "membrane_dict = {}\n",
    "for i in range(len(keys)):\n",
    "    plane_value = plane_values_dict[f\"plane_values{i+1}\"]\n",
    "    inner_values = plane_value[1] if isinstance(plane_value[1], tuple) else (plane_value[1],)\n",
    "    membrane_dict[f\"membrane{i+1}\"] = (\n",
    "        0.001 * plane_value[0],\n",
    "        tuple(0.001 * x for x in inner_values) + (0.07,),\n",
    "        i + 1  # Add the index number\n",
    "    )\n",
    "\n",
    "# Update locals with membrane variables\n",
    "locals().update(membrane_dict)\n",
    "\n"
   ]
  },
  {
   "cell_type": "code",
   "execution_count": 206,
   "metadata": {},
   "outputs": [
    {
     "name": "stderr",
     "output_type": "stream",
     "text": [
      "100%|██████████| 460/460 [05:39<00:00,  1.35it/s]"
     ]
    },
    {
     "name": "stdout",
     "output_type": "stream",
     "text": [
      "Loop finished after 460 iterations, but tolerance has not been reached yet for some points.\n",
      "Overall, 6749 pressure/force pairs were successfull.\n",
      "Could not find roots for the remaining 5351.\n",
      "\n",
      "Computing heights for successfull pressure/force pairs...\n"
     ]
    },
    {
     "name": "stderr",
     "output_type": "stream",
     "text": [
      "\n"
     ]
    },
    {
     "name": "stdout",
     "output_type": "stream",
     "text": [
      "Found 4403 heights larger than 1mm. Other 2346 were less than that.\n"
     ]
    },
    {
     "name": "stderr",
     "output_type": "stream",
     "text": [
      "100%|██████████| 460/460 [04:27<00:00,  1.72it/s]"
     ]
    },
    {
     "name": "stdout",
     "output_type": "stream",
     "text": [
      "Loop finished after 460 iterations, but tolerance has not been reached yet for some points.\n",
      "Overall, 6838 pressure/force pairs were successfull.\n",
      "Could not find roots for the remaining 5262.\n",
      "\n",
      "Computing heights for successfull pressure/force pairs...\n"
     ]
    },
    {
     "name": "stderr",
     "output_type": "stream",
     "text": [
      "\n"
     ]
    },
    {
     "name": "stdout",
     "output_type": "stream",
     "text": [
      "Found 4632 heights larger than 1mm. Other 2206 were less than that.\n"
     ]
    },
    {
     "name": "stderr",
     "output_type": "stream",
     "text": [
      "100%|██████████| 460/460 [05:40<00:00,  1.35it/s]"
     ]
    },
    {
     "name": "stdout",
     "output_type": "stream",
     "text": [
      "Loop finished after 460 iterations, but tolerance has not been reached yet for some points.\n",
      "Overall, 7598 pressure/force pairs were successfull.\n",
      "Could not find roots for the remaining 4502.\n",
      "\n",
      "Computing heights for successfull pressure/force pairs...\n"
     ]
    },
    {
     "name": "stderr",
     "output_type": "stream",
     "text": [
      "\n"
     ]
    },
    {
     "name": "stdout",
     "output_type": "stream",
     "text": [
      "Found 4268 heights larger than 1mm. Other 3330 were less than that.\n"
     ]
    },
    {
     "name": "stderr",
     "output_type": "stream",
     "text": [
      "100%|██████████| 460/460 [04:27<00:00,  1.72it/s]"
     ]
    },
    {
     "name": "stdout",
     "output_type": "stream",
     "text": [
      "Loop finished after 460 iterations, but tolerance has not been reached yet for some points.\n"
     ]
    },
    {
     "name": "stderr",
     "output_type": "stream",
     "text": [
      "\n"
     ]
    },
    {
     "name": "stdout",
     "output_type": "stream",
     "text": [
      "Overall, 6720 pressure/force pairs were successfull.\n",
      "Could not find roots for the remaining 5380.\n",
      "\n",
      "Computing heights for successfull pressure/force pairs...\n",
      "Found 4900 heights larger than 1mm. Other 1820 were less than that.\n"
     ]
    },
    {
     "name": "stderr",
     "output_type": "stream",
     "text": [
      "100%|██████████| 460/460 [05:42<00:00,  1.34it/s]"
     ]
    },
    {
     "name": "stdout",
     "output_type": "stream",
     "text": [
      "Loop finished after 460 iterations, but tolerance has not been reached yet for some points.\n",
      "Overall, 6644 pressure/force pairs were successfull.\n",
      "Could not find roots for the remaining 5456.\n",
      "\n",
      "Computing heights for successfull pressure/force pairs...\n"
     ]
    },
    {
     "name": "stderr",
     "output_type": "stream",
     "text": [
      "\n"
     ]
    },
    {
     "name": "stdout",
     "output_type": "stream",
     "text": [
      "Found 4122 heights larger than 1mm. Other 2522 were less than that.\n"
     ]
    },
    {
     "name": "stderr",
     "output_type": "stream",
     "text": [
      "100%|██████████| 460/460 [04:27<00:00,  1.72it/s]"
     ]
    },
    {
     "name": "stdout",
     "output_type": "stream",
     "text": [
      "Loop finished after 460 iterations, but tolerance has not been reached yet for some points.\n",
      "Overall, 6924 pressure/force pairs were successfull.\n",
      "Could not find roots for the remaining 5176.\n",
      "\n",
      "Computing heights for successfull pressure/force pairs...\n"
     ]
    },
    {
     "name": "stderr",
     "output_type": "stream",
     "text": [
      "\n"
     ]
    },
    {
     "name": "stdout",
     "output_type": "stream",
     "text": [
      "Found 4464 heights larger than 1mm. Other 2460 were less than that.\n"
     ]
    }
   ],
   "source": [
    "# Define parameters for each plane, taken from experimental data\n",
    "\n",
    "ringless_membranes = [membrane1, membrane2, membrane3,\n",
    "                      membrane4, membrane5, membrane6\n",
    "]\n",
    "\n",
    "# Initialize list to store simulation planes\n",
    "sim_planes = []\n",
    "\n",
    "# Generate all planes in a loop\n",
    "for i, (thickness, radii, force_idx) in enumerate(ringless_membranes, 1):\n",
    "    FF1, PP1, heights11, best_x1 = obtain_qoi_plane(\n",
    "        thickness,\n",
    "        radii,\n",
    "        ('elast',),\n",
    "        F_min=0,\n",
    "        F_max=max(globals()[f'force{force_idx}']),\n",
    "        p_min=40,\n",
    "        p_max=max(globals()[f'pressure{force_idx}']),\n",
    "        dx_init=0.012,\n",
    "        init_guess=5.9,\n",
    "        max_iter=460,\n",
    "        num_ps=110,\n",
    "        num_Fs=110,\n",
    "        atol=4e-3,\n",
    "        return_best_x=True\n",
    "    )\n",
    "    sim_planes.append((keys[i],(FF1, PP1, heights11)))\n",
    "    globals()[f'sim_plane{i}'] = (FF1, PP1, heights11)\n",
    "\n"
   ]
  },
  {
   "cell_type": "code",
   "execution_count": null,
   "metadata": {},
   "outputs": [
    {
     "name": "stdout",
     "output_type": "stream",
     "text": [
      "(0.001, (0.0254, 0.0412, 0.0128, 0.062, 0.005, 0.07), 7)\n"
     ]
    }
   ],
   "source": [
    "# # Uncomment this to save the ringless membranes results\n",
    "# import pickle\n",
    "# with open('ringless_membranes_sim.pkl', 'wb') as f:\n",
    "#     pickle.dump(sim_planes, f)\n"
   ]
  },
  {
   "cell_type": "code",
   "execution_count": 278,
   "metadata": {},
   "outputs": [],
   "source": [
    "all_membranes=[membrane1, membrane2, membrane3, membrane4, membrane5, membrane6, membrane7, membrane8, membrane9, membrane10, membrane11, membrane12, membrane13, membrane14, membrane15,\n",
    "                  membrane16, membrane17, membrane18, membrane19, membrane20, membrane21, membrane22]"
   ]
  },
  {
   "cell_type": "code",
   "execution_count": null,
   "metadata": {},
   "outputs": [
    {
     "name": "stderr",
     "output_type": "stream",
     "text": [
      "100%|██████████| 400/400 [13:37<00:00,  2.04s/it]"
     ]
    },
    {
     "name": "stdout",
     "output_type": "stream",
     "text": [
      "Loop finished after 400 iterations, but tolerance has not been reached yet for some points.\n",
      "Overall, 9880 pressure/force pairs were successfull.\n",
      "Could not find roots for the remaining 120.\n",
      "\n",
      "Computing heights for successfull pressure/force pairs...\n"
     ]
    },
    {
     "name": "stderr",
     "output_type": "stream",
     "text": [
      "\n"
     ]
    },
    {
     "name": "stdout",
     "output_type": "stream",
     "text": [
      "Found 5379 heights larger than 1mm. Other 4501 were less than that.\n"
     ]
    }
   ],
   "source": [
    "# membrane 7, simply change n for the other membranes\n",
    "n=7\n",
    "FF1, PP1, heights11, best_x1 = obtain_qoi_plane(\n",
    "        all_membranes[n-1][0],\n",
    "        (all_membranes[n-1][1][0], all_membranes[n-1][1][1]-all_membranes[n-1][1][2], \n",
    "        all_membranes[n-1][1][1]+all_membranes[n-1][1][2], all_membranes[n-1][1][3]-all_membranes[n-1][1][4], \n",
    "        all_membranes[n-1][1][3]+all_membranes[n-1][1][4],all_membranes[n-1][1][5]),\n",
    "        ('elast','stiff','elast','stiff','elast'),\n",
    "        F_min=0,\n",
    "        F_max=ceil(max(globals()[f'force{n}'])),\n",
    "        p_min=40,\n",
    "        p_max=round_to_hundred(max(globals()[f'pressure{n}'])),\n",
    "        dx_init=0.011,\n",
    "        init_guess=5.5,\n",
    "        max_iter=400,\n",
    "        num_ps=100,\n",
    "        num_Fs=100,\n",
    "        atol=1e-3,\n",
    "        return_best_x=True\n",
    "    )\n",
    "import pickle\n",
    "with open('ringed_membrane_7.pkl', 'wb') as f:\n",
    "    pickle.dump((keys[n-1],(FF1, PP1, heights11)), f)"
   ]
  },
  {
   "cell_type": "code",
   "execution_count": null,
   "metadata": {},
   "outputs": [
    {
     "name": "stderr",
     "output_type": "stream",
     "text": [
      "100%|██████████| 400/400 [11:55<00:00,  1.79s/it]"
     ]
    },
    {
     "name": "stdout",
     "output_type": "stream",
     "text": [
      "Loop finished after 400 iterations, but tolerance has not been reached yet for some points.\n",
      "Overall, 9913 pressure/force pairs were successfull.\n",
      "Could not find roots for the remaining 87.\n",
      "\n",
      "Computing heights for successfull pressure/force pairs...\n"
     ]
    },
    {
     "name": "stderr",
     "output_type": "stream",
     "text": [
      "\n"
     ]
    },
    {
     "name": "stdout",
     "output_type": "stream",
     "text": [
      "Found 4248 heights larger than 1mm. Other 5665 were less than that.\n"
     ]
    }
   ],
   "source": [
    "# membrane 8\n",
    "n=8\n",
    "FF1, PP1, heights11, best_x1 = obtain_qoi_plane(\n",
    "        all_membranes[n-1][0],\n",
    "        (all_membranes[n-1][1][0], all_membranes[n-1][1][1]-all_membranes[n-1][1][2], \n",
    "        all_membranes[n-1][1][1]+all_membranes[n-1][1][2], all_membranes[n-1][1][3]-all_membranes[n-1][1][4], \n",
    "        all_membranes[n-1][1][3]+all_membranes[n-1][1][4],all_membranes[n-1][1][5]),\n",
    "        ('elast','stiff','elast','stiff','elast'),\n",
    "        F_min=0,\n",
    "        F_max=ceil(max(globals()[f'force{n}'])),\n",
    "        p_min=40,\n",
    "        p_max=round_to_hundred(max(globals()[f'pressure{n}'])),\n",
    "        dx_init=0.012,\n",
    "        init_guess=5.5,\n",
    "        max_iter=400,\n",
    "        num_ps=100,\n",
    "        num_Fs=100,\n",
    "        atol=1e-3,\n",
    "        return_best_x=True\n",
    "    )\n",
    "import pickle\n",
    "with open('ringed_membrane_8.pkl', 'wb') as f:\n",
    "    pickle.dump((keys[n-1],(FF1, PP1, heights11)), f)"
   ]
  },
  {
   "cell_type": "code",
   "execution_count": 286,
   "metadata": {},
   "outputs": [
    {
     "name": "stderr",
     "output_type": "stream",
     "text": [
      "100%|██████████| 400/400 [13:06<00:00,  1.97s/it]"
     ]
    },
    {
     "name": "stdout",
     "output_type": "stream",
     "text": [
      "Loop finished after 400 iterations, but tolerance has not been reached yet for some points.\n"
     ]
    },
    {
     "name": "stderr",
     "output_type": "stream",
     "text": [
      "\n"
     ]
    },
    {
     "name": "stdout",
     "output_type": "stream",
     "text": [
      "Overall, 9711 pressure/force pairs were successfull.\n",
      "Could not find roots for the remaining 289.\n",
      "\n",
      "Computing heights for successfull pressure/force pairs...\n",
      "Found 4662 heights larger than 1mm. Other 5049 were less than that.\n"
     ]
    }
   ],
   "source": [
    "# membrane 9\n",
    "n=9\n",
    "FF1, PP1, heights11, best_x1 = obtain_qoi_plane(\n",
    "        all_membranes[n-1][0],\n",
    "        (all_membranes[n-1][1][0], all_membranes[n-1][1][1]-all_membranes[n-1][1][2], \n",
    "        all_membranes[n-1][1][1]+all_membranes[n-1][1][2], all_membranes[n-1][1][3]-all_membranes[n-1][1][4], \n",
    "        all_membranes[n-1][1][3]+all_membranes[n-1][1][4],all_membranes[n-1][1][5]),\n",
    "        ('elast','stiff','elast','stiff','elast'),\n",
    "        F_min=0,\n",
    "        F_max=ceil(max(globals()[f'force{n}'])),\n",
    "        p_min=40,\n",
    "        p_max=round_to_hundred(max(globals()[f'pressure{n}'])),\n",
    "        dx_init=0.012,\n",
    "        init_guess=5.5,\n",
    "        max_iter=400,\n",
    "        num_ps=100,\n",
    "        num_Fs=100,\n",
    "        atol=1e-3,\n",
    "        return_best_x=True\n",
    "    )\n",
    "import pickle\n",
    "with open('ringed_membrane_9.pkl', 'wb') as f:\n",
    "    pickle.dump((keys[n-1],(FF1, PP1, heights11)), f)"
   ]
  },
  {
   "cell_type": "code",
   "execution_count": 288,
   "metadata": {},
   "outputs": [
    {
     "name": "stderr",
     "output_type": "stream",
     "text": [
      "100%|██████████| 400/400 [13:32<00:00,  2.03s/it]"
     ]
    },
    {
     "name": "stdout",
     "output_type": "stream",
     "text": [
      "Loop finished after 400 iterations, but tolerance has not been reached yet for some points.\n"
     ]
    },
    {
     "name": "stderr",
     "output_type": "stream",
     "text": [
      "\n"
     ]
    },
    {
     "name": "stdout",
     "output_type": "stream",
     "text": [
      "Overall, 9247 pressure/force pairs were successfull.\n",
      "Could not find roots for the remaining 753.\n",
      "\n",
      "Computing heights for successfull pressure/force pairs...\n",
      "Found 5821 heights larger than 1mm. Other 3426 were less than that.\n"
     ]
    }
   ],
   "source": [
    "# membrane 10\n",
    "n=10\n",
    "FF1, PP1, heights11, best_x1 = obtain_qoi_plane(\n",
    "        all_membranes[n-1][0],\n",
    "        (all_membranes[n-1][1][0], all_membranes[n-1][1][1]-all_membranes[n-1][1][2], \n",
    "        all_membranes[n-1][1][1]+all_membranes[n-1][1][2], all_membranes[n-1][1][3]-all_membranes[n-1][1][4], \n",
    "        all_membranes[n-1][1][3]+all_membranes[n-1][1][4],all_membranes[n-1][1][5]),\n",
    "        ('elast','stiff','elast','stiff','elast'),\n",
    "        F_min=0,\n",
    "        F_max=ceil(max(globals()[f'force{n}'])),\n",
    "        p_min=40,\n",
    "        p_max=round_to_hundred(max(globals()[f'pressure{n}'])),\n",
    "        dx_init=0.012,\n",
    "        init_guess=5.5,\n",
    "        max_iter=400,\n",
    "        num_ps=100,\n",
    "        num_Fs=100,\n",
    "        atol=1e-3,\n",
    "        return_best_x=True\n",
    "    )\n",
    "import pickle\n",
    "with open('ringed_membrane_10.pkl', 'wb') as f:\n",
    "    pickle.dump((keys[n-1],(FF1, PP1, heights11)), f)"
   ]
  },
  {
   "cell_type": "code",
   "execution_count": 290,
   "metadata": {},
   "outputs": [
    {
     "name": "stderr",
     "output_type": "stream",
     "text": [
      "100%|██████████| 400/400 [13:58<00:00,  2.10s/it]"
     ]
    },
    {
     "name": "stdout",
     "output_type": "stream",
     "text": [
      "Loop finished after 400 iterations, but tolerance has not been reached yet for some points.\n"
     ]
    },
    {
     "name": "stderr",
     "output_type": "stream",
     "text": [
      "\n"
     ]
    },
    {
     "name": "stdout",
     "output_type": "stream",
     "text": [
      "Overall, 9577 pressure/force pairs were successfull.\n",
      "Could not find roots for the remaining 423.\n",
      "\n",
      "Computing heights for successfull pressure/force pairs...\n",
      "Found 5593 heights larger than 1mm. Other 3984 were less than that.\n"
     ]
    }
   ],
   "source": [
    "# membrane 11\n",
    "n=11\n",
    "FF1, PP1, heights11, best_x1 = obtain_qoi_plane(\n",
    "        all_membranes[n-1][0],\n",
    "        (all_membranes[n-1][1][0], all_membranes[n-1][1][1]-all_membranes[n-1][1][2], \n",
    "        all_membranes[n-1][1][1]+all_membranes[n-1][1][2], all_membranes[n-1][1][3]-all_membranes[n-1][1][4], \n",
    "        all_membranes[n-1][1][3]+all_membranes[n-1][1][4],all_membranes[n-1][1][5]),\n",
    "        ('elast','stiff','elast','stiff','elast'),\n",
    "        F_min=0,\n",
    "        F_max=ceil(max(globals()[f'force{n}'])),\n",
    "        p_min=40,\n",
    "        p_max=round_to_hundred(max(globals()[f'pressure{n}'])),\n",
    "        dx_init=0.012,\n",
    "        init_guess=5.5,\n",
    "        max_iter=400,\n",
    "        num_ps=100,\n",
    "        num_Fs=100,\n",
    "        atol=1e-3,\n",
    "        return_best_x=True\n",
    "    )\n",
    "import pickle\n",
    "with open('ringed_membrane_11.pkl', 'wb') as f:\n",
    "    pickle.dump((keys[n-1],(FF1, PP1, heights11)), f)"
   ]
  },
  {
   "cell_type": "code",
   "execution_count": 296,
   "metadata": {},
   "outputs": [
    {
     "name": "stderr",
     "output_type": "stream",
     "text": [
      "100%|██████████| 365/365 [12:23<00:00,  2.04s/it]"
     ]
    },
    {
     "name": "stdout",
     "output_type": "stream",
     "text": [
      "Loop finished after 365 iterations, but tolerance has not been reached yet for some points.\n"
     ]
    },
    {
     "name": "stderr",
     "output_type": "stream",
     "text": [
      "\n"
     ]
    },
    {
     "name": "stdout",
     "output_type": "stream",
     "text": [
      "Overall, 9858 pressure/force pairs were successfull.\n",
      "Could not find roots for the remaining 142.\n",
      "\n",
      "Computing heights for successfull pressure/force pairs...\n",
      "Found 6577 heights larger than 1mm. Other 3281 were less than that.\n"
     ]
    }
   ],
   "source": [
    "# membrane 14\n",
    "n=14\n",
    "FF1, PP1, heights11, best_x1 = obtain_qoi_plane(\n",
    "        all_membranes[n-1][0],\n",
    "        (all_membranes[n-1][1][0], all_membranes[n-1][1][1]-all_membranes[n-1][1][2], \n",
    "        all_membranes[n-1][1][1]+all_membranes[n-1][1][2], all_membranes[n-1][1][3]-all_membranes[n-1][1][4], \n",
    "        all_membranes[n-1][1][3]+all_membranes[n-1][1][4],all_membranes[n-1][1][5]),\n",
    "        ('elast','stiff','elast','stiff','elast'),\n",
    "        F_min=0,\n",
    "        F_max=ceil(max(globals()[f'force{n}'])),\n",
    "        p_min=40,\n",
    "        p_max=round_to_hundred(max(globals()[f'pressure{n}'])),\n",
    "        dx_init=0.012,\n",
    "        init_guess=5.5,\n",
    "        max_iter=365,\n",
    "        num_ps=100,\n",
    "        num_Fs=100,\n",
    "        atol=1e-3,\n",
    "        return_best_x=True\n",
    "    )\n",
    "import pickle\n",
    "with open('ringed_membrane_14.pkl', 'wb') as f:\n",
    "    pickle.dump((keys[n-1],(FF1, PP1, heights11)), f)"
   ]
  },
  {
   "cell_type": "code",
   "execution_count": null,
   "metadata": {},
   "outputs": [
    {
     "name": "stderr",
     "output_type": "stream",
     "text": [
      "100%|██████████| 365/365 [12:11<00:00,  2.00s/it]"
     ]
    },
    {
     "name": "stdout",
     "output_type": "stream",
     "text": [
      "Loop finished after 365 iterations, but tolerance has not been reached yet for some points.\n"
     ]
    },
    {
     "name": "stderr",
     "output_type": "stream",
     "text": [
      "\n"
     ]
    },
    {
     "name": "stdout",
     "output_type": "stream",
     "text": [
      "Overall, 9459 pressure/force pairs were successfull.\n",
      "Could not find roots for the remaining 541.\n",
      "\n",
      "Computing heights for successfull pressure/force pairs...\n",
      "Found 5595 heights larger than 1mm. Other 3864 were less than that.\n"
     ]
    }
   ],
   "source": [
    "# membrane 15\n",
    "n=15\n",
    "FF1, PP1, heights11, best_x1 = obtain_qoi_plane(\n",
    "        all_membranes[n-1][0],\n",
    "        (all_membranes[n-1][1][0], all_membranes[n-1][1][1]-all_membranes[n-1][1][2], \n",
    "        all_membranes[n-1][1][1]+all_membranes[n-1][1][2], all_membranes[n-1][1][3]-all_membranes[n-1][1][4], \n",
    "        all_membranes[n-1][1][3]+all_membranes[n-1][1][4],all_membranes[n-1][1][5]),\n",
    "        ('elast','stiff','elast','stiff','elast'),\n",
    "        F_min=0,\n",
    "        F_max=ceil(max(globals()[f'force{n}'])),\n",
    "        p_min=40,\n",
    "        p_max=round_to_hundred(max(globals()[f'pressure{n}'])),\n",
    "        dx_init=0.012,\n",
    "        init_guess=5.5,\n",
    "        max_iter=365,\n",
    "        num_ps=100,\n",
    "        num_Fs=100,\n",
    "        atol=1e-3,\n",
    "        return_best_x=True\n",
    "    )\n",
    "import pickle\n",
    "with open('ringed_membrane_15.pkl', 'wb') as f:\n",
    "    pickle.dump((keys[n-1],(FF1, PP1, heights11)), f)"
   ]
  },
  {
   "cell_type": "code",
   "execution_count": 304,
   "metadata": {},
   "outputs": [
    {
     "name": "stderr",
     "output_type": "stream",
     "text": [
      "100%|██████████| 400/400 [12:33<00:00,  1.88s/it]"
     ]
    },
    {
     "name": "stdout",
     "output_type": "stream",
     "text": [
      "Loop finished after 400 iterations, but tolerance has not been reached yet for some points.\n"
     ]
    },
    {
     "name": "stderr",
     "output_type": "stream",
     "text": [
      "\n"
     ]
    },
    {
     "name": "stdout",
     "output_type": "stream",
     "text": [
      "Overall, 9731 pressure/force pairs were successfull.\n",
      "Could not find roots for the remaining 269.\n",
      "\n",
      "Computing heights for successfull pressure/force pairs...\n",
      "Found 4947 heights larger than 1mm. Other 4784 were less than that.\n"
     ]
    }
   ],
   "source": [
    "# membrane 17\n",
    "n=17\n",
    "FF1, PP1, heights11, best_x1 = obtain_qoi_plane(\n",
    "        all_membranes[n-1][0],\n",
    "        (all_membranes[n-1][1][0], all_membranes[n-1][1][1]-all_membranes[n-1][1][2], \n",
    "        all_membranes[n-1][1][1]+all_membranes[n-1][1][2], all_membranes[n-1][1][3]-all_membranes[n-1][1][4], \n",
    "        all_membranes[n-1][1][3]+all_membranes[n-1][1][4],all_membranes[n-1][1][5]),\n",
    "        ('elast','stiff','elast','stiff','elast'),\n",
    "        F_min=0,\n",
    "        F_max=ceil(max(globals()[f'force{n}'])),\n",
    "        p_min=40,\n",
    "        p_max=round_to_hundred(max(globals()[f'pressure{n}'])),\n",
    "        dx_init=0.011,\n",
    "        init_guess=5.5,\n",
    "        max_iter=400,\n",
    "        num_ps=100,\n",
    "        num_Fs=100,\n",
    "        atol=1e-3,\n",
    "        return_best_x=True\n",
    "    )\n",
    "import pickle\n",
    "with open('ringed_membrane_17.pkl', 'wb') as f:\n",
    "    pickle.dump((keys[n-1],(FF1, PP1, heights11)), f)"
   ]
  },
  {
   "cell_type": "code",
   "execution_count": 306,
   "metadata": {},
   "outputs": [
    {
     "name": "stderr",
     "output_type": "stream",
     "text": [
      "100%|██████████| 400/400 [11:56<00:00,  1.79s/it]"
     ]
    },
    {
     "name": "stdout",
     "output_type": "stream",
     "text": [
      "Loop finished after 400 iterations, but tolerance has not been reached yet for some points.\n"
     ]
    },
    {
     "name": "stderr",
     "output_type": "stream",
     "text": [
      "\n"
     ]
    },
    {
     "name": "stdout",
     "output_type": "stream",
     "text": [
      "Overall, 8765 pressure/force pairs were successfull.\n",
      "Could not find roots for the remaining 1235.\n",
      "\n",
      "Computing heights for successfull pressure/force pairs...\n",
      "Found 4626 heights larger than 1mm. Other 4139 were less than that.\n"
     ]
    }
   ],
   "source": [
    "# membrane 18\n",
    "n=18\n",
    "FF1, PP1, heights11, best_x1 = obtain_qoi_plane(\n",
    "        all_membranes[n-1][0],\n",
    "        (all_membranes[n-1][1][0], all_membranes[n-1][1][1]-all_membranes[n-1][1][2], \n",
    "        all_membranes[n-1][1][1]+all_membranes[n-1][1][2], all_membranes[n-1][1][3]-all_membranes[n-1][1][4], \n",
    "        all_membranes[n-1][1][3]+all_membranes[n-1][1][4],all_membranes[n-1][1][5]),\n",
    "        ('elast','stiff','elast','stiff','elast'),\n",
    "        F_min=0,\n",
    "        F_max=ceil(max(globals()[f'force{n}'])),\n",
    "        p_min=40,\n",
    "        p_max=round_to_hundred(max(globals()[f'pressure{n}'])),\n",
    "        dx_init=0.011,\n",
    "        init_guess=5.5,\n",
    "        max_iter=400,\n",
    "        num_ps=100,\n",
    "        num_Fs=100,\n",
    "        atol=1e-3,\n",
    "        return_best_x=True\n",
    "    )\n",
    "import pickle\n",
    "with open('ringed_membrane_18.pkl', 'wb') as f:\n",
    "    pickle.dump((keys[n-1],(FF1, PP1, heights11)), f)"
   ]
  },
  {
   "cell_type": "code",
   "execution_count": 308,
   "metadata": {},
   "outputs": [
    {
     "name": "stderr",
     "output_type": "stream",
     "text": [
      "100%|██████████| 400/400 [13:26<00:00,  2.02s/it]"
     ]
    },
    {
     "name": "stdout",
     "output_type": "stream",
     "text": [
      "Loop finished after 400 iterations, but tolerance has not been reached yet for some points.\n"
     ]
    },
    {
     "name": "stderr",
     "output_type": "stream",
     "text": [
      "\n"
     ]
    },
    {
     "name": "stdout",
     "output_type": "stream",
     "text": [
      "Overall, 9708 pressure/force pairs were successfull.\n",
      "Could not find roots for the remaining 292.\n",
      "\n",
      "Computing heights for successfull pressure/force pairs...\n",
      "Found 5404 heights larger than 1mm. Other 4304 were less than that.\n"
     ]
    }
   ],
   "source": [
    "# membrane 19\n",
    "n=19\n",
    "FF1, PP1, heights11, best_x1 = obtain_qoi_plane(\n",
    "        all_membranes[n-1][0],\n",
    "        (all_membranes[n-1][1][0], all_membranes[n-1][1][1]-all_membranes[n-1][1][2], \n",
    "        all_membranes[n-1][1][1]+all_membranes[n-1][1][2], all_membranes[n-1][1][3]-all_membranes[n-1][1][4], \n",
    "        all_membranes[n-1][1][3]+all_membranes[n-1][1][4],all_membranes[n-1][1][5]),\n",
    "        ('elast','stiff','elast','stiff','elast'),\n",
    "        F_min=0,\n",
    "        F_max=ceil(max(globals()[f'force{n}'])),\n",
    "        p_min=40,\n",
    "        p_max=round_to_hundred(max(globals()[f'pressure{n}'])),\n",
    "        dx_init=0.011,\n",
    "        init_guess=5.5,\n",
    "        max_iter=400,\n",
    "        num_ps=100,\n",
    "        num_Fs=100,\n",
    "        atol=1e-3,\n",
    "        return_best_x=True\n",
    "    )\n",
    "import pickle\n",
    "with open('ringed_membrane_19.pkl', 'wb') as f:\n",
    "    pickle.dump((keys[n-1],(FF1, PP1, heights11)), f)"
   ]
  },
  {
   "cell_type": "code",
   "execution_count": 310,
   "metadata": {},
   "outputs": [
    {
     "name": "stderr",
     "output_type": "stream",
     "text": [
      "100%|██████████| 400/400 [12:17<00:00,  1.84s/it]"
     ]
    },
    {
     "name": "stdout",
     "output_type": "stream",
     "text": [
      "Loop finished after 400 iterations, but tolerance has not been reached yet for some points.\n"
     ]
    },
    {
     "name": "stderr",
     "output_type": "stream",
     "text": [
      "\n"
     ]
    },
    {
     "name": "stdout",
     "output_type": "stream",
     "text": [
      "Overall, 9837 pressure/force pairs were successfull.\n",
      "Could not find roots for the remaining 163.\n",
      "\n",
      "Computing heights for successfull pressure/force pairs...\n",
      "Found 4589 heights larger than 1mm. Other 5248 were less than that.\n"
     ]
    }
   ],
   "source": [
    "# membrane 20\n",
    "n=20\n",
    "FF1, PP1, heights11, best_x1 = obtain_qoi_plane(\n",
    "        all_membranes[n-1][0],\n",
    "        (all_membranes[n-1][1][0], all_membranes[n-1][1][1]-all_membranes[n-1][1][2], \n",
    "        all_membranes[n-1][1][1]+all_membranes[n-1][1][2], all_membranes[n-1][1][3]-all_membranes[n-1][1][4], \n",
    "        all_membranes[n-1][1][3]+all_membranes[n-1][1][4],all_membranes[n-1][1][5]),\n",
    "        ('elast','stiff','elast','stiff','elast'),\n",
    "        F_min=0,\n",
    "        F_max=ceil(max(globals()[f'force{n}'])),\n",
    "        p_min=40,\n",
    "        p_max=round_to_hundred(max(globals()[f'pressure{n}'])),\n",
    "        dx_init=0.011,\n",
    "        init_guess=5.5,\n",
    "        max_iter=400,\n",
    "        num_ps=100,\n",
    "        num_Fs=100,\n",
    "        atol=1e-3,\n",
    "        return_best_x=True\n",
    "    )\n",
    "import pickle\n",
    "with open('ringed_membrane_20.pkl', 'wb') as f:\n",
    "    pickle.dump((keys[n-1],(FF1, PP1, heights11)), f)"
   ]
  },
  {
   "cell_type": "code",
   "execution_count": 313,
   "metadata": {},
   "outputs": [
    {
     "name": "stderr",
     "output_type": "stream",
     "text": [
      "100%|██████████| 400/400 [13:35<00:00,  2.04s/it]"
     ]
    },
    {
     "name": "stdout",
     "output_type": "stream",
     "text": [
      "Loop finished after 400 iterations, but tolerance has not been reached yet for some points.\n"
     ]
    },
    {
     "name": "stderr",
     "output_type": "stream",
     "text": [
      "\n"
     ]
    },
    {
     "name": "stdout",
     "output_type": "stream",
     "text": [
      "Overall, 9588 pressure/force pairs were successfull.\n",
      "Could not find roots for the remaining 412.\n",
      "\n",
      "Computing heights for successfull pressure/force pairs...\n",
      "Found 7040 heights larger than 1mm. Other 2548 were less than that.\n"
     ]
    }
   ],
   "source": [
    "# membrane 22\n",
    "n=22\n",
    "FF1, PP1, heights11, best_x1 = obtain_qoi_plane(\n",
    "        all_membranes[n-1][0],\n",
    "        (all_membranes[n-1][1][0], all_membranes[n-1][1][1]-all_membranes[n-1][1][2], \n",
    "        all_membranes[n-1][1][1]+all_membranes[n-1][1][2], all_membranes[n-1][1][3]-all_membranes[n-1][1][4], \n",
    "        all_membranes[n-1][1][3]+all_membranes[n-1][1][4],all_membranes[n-1][1][5]),\n",
    "        ('elast','stiff','elast','stiff','elast'),\n",
    "        F_min=0,\n",
    "        F_max=ceil(max(globals()[f'force{n}'])),\n",
    "        p_min=40,\n",
    "        p_max=round_to_hundred(max(globals()[f'pressure{n}'])),\n",
    "        dx_init=0.011,\n",
    "        init_guess=5.5,\n",
    "        max_iter=400,\n",
    "        num_ps=100,\n",
    "        num_Fs=100,\n",
    "        atol=1e-3,\n",
    "        return_best_x=True\n",
    "    )\n",
    "import pickle\n",
    "with open('ringed_membrane_22.pkl', 'wb') as f:\n",
    "    pickle.dump((keys[n-1],(FF1, PP1, heights11)), f)"
   ]
  }
 ],
 "metadata": {
  "kernelspec": {
   "display_name": "Python 3",
   "language": "python",
   "name": "python3"
  },
  "language_info": {
   "codemirror_mode": {
    "name": "ipython",
    "version": 3
   },
   "file_extension": ".py",
   "mimetype": "text/x-python",
   "name": "python",
   "nbconvert_exporter": "python",
   "pygments_lexer": "ipython3",
   "version": "3.13.2"
  }
 },
 "nbformat": 4,
 "nbformat_minor": 2
}
