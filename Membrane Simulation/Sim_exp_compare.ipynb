{
 "cells": [
  {
   "cell_type": "code",
   "execution_count": 1,
   "metadata": {},
   "outputs": [],
   "source": [
    "import numpy as np\n",
    "import pickle\n",
    "dict_name = 'model_data_dictionary_N_Pa.pkl'\n",
    "data_dict = pickle.load(open(dict_name, 'rb'))\n",
    "sim_membranes = pickle.load(open('sim_membranes.pkl', 'rb'))\n",
    "new_dict = data_dict\n",
    "keys=list(new_dict.keys())\n",
    "N_to_lbf = 0.224809\n",
    "lbf_to_N = 1/N_to_lbf\n",
    "PSI_to_Pa = 6894.76\n",
    "Pa_to_PSI = 1/PSI_to_Pa\n",
    "import numpy as np\n",
    "\n",
    "# Create flattened pressure and force variables\n",
    "locals().update({f\"pressure{i+1}\": np.array(new_dict[key][0][1]).flatten() for i, key in enumerate(keys)})\n",
    "locals().update({f\"force{i+1}\": np.array(new_dict[key][1]).flatten() for i, key in enumerate(keys)})\n",
    "locals().update({f\"height{i+1}\": [x[0] for x in new_dict[key][0][0]] for i, key in enumerate(keys)})\n",
    "\n",
    "# Then create plane tuples\n",
    "for i in range(len(keys)):\n",
    "    locals()[f\"plane{i+1}\"] = (\n",
    "        keys[i],\n",
    "        (locals()[f\"pressure{i+1}\"], locals()[f\"force{i+1}\"], locals()[f\"height{i+1}\"])\n",
    "    )\n",
    "\n",
    "# keep planes for which simulation solution was possible\n",
    "exp_data=[plane1,plane2,plane3,plane4,plane5,plane6,plane7,\n",
    "plane8,plane9,plane10,plane11,plane14,plane15,plane17,plane18,\n",
    "plane19,plane20,plane22]\n"
   ]
  },
  {
   "cell_type": "code",
   "execution_count": 2,
   "metadata": {},
   "outputs": [],
   "source": [
    "# Convert experimental data to match simulation data structure\n",
    "standardized_exp_data = []\n",
    "for name, data in exp_data:\n",
    "    # Convert each component (pressure, force, heights) to numpy array\n",
    "    standardized_data = (\n",
    "        np.array(data[0]),  # pressure\n",
    "        np.array(data[1]),  # force\n",
    "        np.array(data[2])   # heights\n",
    "    )\n",
    "    standardized_exp_data.append((name, np.array(standardized_data)))\n",
    "\n",
    "standardized_sim_data = []\n",
    "for name, data in sim_membranes:\n",
    "    # Convert each component (pressure, force, heights) to numpy array\n",
    "    standardized_sim = (\n",
    "        np.array(data[0]),  # force\n",
    "        np.array(data[1]),  # pressure\n",
    "        np.array(data[2])   # heights\n",
    "    )\n",
    "    standardized_sim_data.append((name, np.array(standardized_sim)))\n",
    "\n",
    "# Both sim_data and standardized_exp_data have shape (key, (pressure, force, heights)) where key is a string that shows\n",
    "# thickness and the location of the rings."
   ]
  },
  {
   "cell_type": "code",
   "execution_count": 3,
   "metadata": {},
   "outputs": [],
   "source": [
    "def calculate_normalized_rmse(plane, sim_plane):\n",
    "    min_errors = []\n",
    "    force_differences = []\n",
    "    \n",
    "    # Normalize the planes\n",
    "    norm_plane = (\n",
    "        plane[1][0]/np.max(plane[1][0]),\n",
    "        plane[1][1],\n",
    "        plane[1][2]/(1000*np.max(plane[1][2]))\n",
    "    )\n",
    "    \n",
    "    norm_sim_plane = (\n",
    "        sim_plane[1][1]/np.max(plane[1][0]),\n",
    "        sim_plane[1][0],\n",
    "        sim_plane[1][2]/np.max(plane[1][2])\n",
    "    )\n",
    "    \n",
    "    for i in range(len(norm_plane[0])):\n",
    "        # Finding closest point in the P vs height plane\n",
    "        errors = np.sqrt((norm_plane[0][i] - np.array(norm_sim_plane[0]))**2 + \n",
    "                        (norm_plane[2][i] - np.array(norm_sim_plane[2]))**2)\n",
    "        \n",
    "        j_min = np.argmin(errors)\n",
    "        min_errors.append(errors[j_min])\n",
    "        \n",
    "\n",
    "        # GMC 3/24 - add a tolerance to ensure that the closest point is actually close\n",
    "        if errors[j_min] < 0.1:\n",
    "            # Calculate force difference using normalized values\n",
    "            force_diff = abs(norm_plane[1][i] - norm_sim_plane[1][j_min])\n",
    "            force_differences.append(force_diff)\n",
    "\n",
    "        # Calculate force difference using normalized values\n",
    "        force_diff = abs(norm_plane[1][i] - norm_sim_plane[1][j_min])\n",
    "        force_differences.append(force_diff)\n",
    "    \n",
    "    # Calculate RMSE\n",
    "    rmse = np.sqrt(np.mean(np.array(force_differences)**2))\n",
    "    return rmse, np.array(min_errors), np.array(force_differences)\n"
   ]
  },
  {
   "cell_type": "code",
   "execution_count": 4,
   "metadata": {},
   "outputs": [],
   "source": [
    "rmse_results = [[],[],[]]\n",
    "for i in range(len(standardized_sim_data)):\n",
    "    rmse,errors,force_diffs = calculate_normalized_rmse(standardized_exp_data[i], standardized_sim_data[i])\n",
    "    rmse_results[0].append(rmse)\n",
    "    rmse_results[1].append(errors)\n",
    "    rmse_results[2].append(force_diffs)"
   ]
  },
  {
   "cell_type": "code",
   "execution_count": 5,
   "metadata": {},
   "outputs": [
    {
     "name": "stdout",
     "output_type": "stream",
     "text": [
      "Six ringless membranes RMSEs: (1.71N, 3.11N, 5.17N, 5.94N, 5.12N, 14.13N)\n",
      "Twelve ringed membranes RMSEs: (4.36N, 8.30N, 6.35N, 1.23N, 1.93N, 4.58N, 1.44N, 4.74N, 1.94N, 1.96N, 4.74N, 1.64N)\n",
      "Ringless membranes: Average RMSE: 5.86N\n",
      "Ringed membranes: Average RMSE: 3.60N\n",
      "Total average RMSE: 4.35N\n"
     ]
    }
   ],
   "source": [
    "print(f\"Six ringless membranes RMSEs: ({rmse_results[0][0]:.2f}N, {rmse_results[0][1]:.2f}N, {rmse_results[0][2]:.2f}N, {rmse_results[0][3]:.2f}N, {rmse_results[0][4]:.2f}N, {rmse_results[0][5]:.2f}N)\")\n",
    "print(f\"Twelve ringed membranes RMSEs: ({rmse_results[0][6]:.2f}N, {rmse_results[0][7]:.2f}N, {rmse_results[0][8]:.2f}N, {rmse_results[0][9]:.2f}N, {rmse_results[0][10]:.2f}N, {rmse_results[0][11]:.2f}N, {rmse_results[0][12]:.2f}N, {rmse_results[0][13]:.2f}N, {rmse_results[0][14]:.2f}N, {rmse_results[0][15]:.2f}N, {rmse_results[0][16]:.2f}N, {rmse_results[0][17]:.2f}N)\")\n",
    "print(f\"Ringless membranes: Average RMSE: {np.mean(rmse_results[0][:6]):.2f}N\")\n",
    "print(f\"Ringed membranes: Average RMSE: {np.mean(rmse_results[0][6:18]):.2f}N\")\n",
    "print(f\"Total average RMSE: {np.mean(rmse_results[0]):.2f}N\")"
   ]
  }
 ],
 "metadata": {
  "kernelspec": {
   "display_name": "Python 3",
   "language": "python",
   "name": "python3"
  },
  "language_info": {
   "codemirror_mode": {
    "name": "ipython",
    "version": 3
   },
   "file_extension": ".py",
   "mimetype": "text/x-python",
   "name": "python",
   "nbconvert_exporter": "python",
   "pygments_lexer": "ipython3",
   "version": "3.12.2"
  }
 },
 "nbformat": 4,
 "nbformat_minor": 2
}
